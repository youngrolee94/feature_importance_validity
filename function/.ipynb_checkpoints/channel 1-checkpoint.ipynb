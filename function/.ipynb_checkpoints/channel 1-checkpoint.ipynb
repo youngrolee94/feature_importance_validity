{
 "cells": [
  {
   "cell_type": "code",
   "execution_count": 2,
   "id": "f9749056",
   "metadata": {},
   "outputs": [],
   "source": [
    "import functions\n",
    "import os"
   ]
  },
  {
   "cell_type": "code",
   "execution_count": 3,
   "id": "2914661f",
   "metadata": {},
   "outputs": [
    {
     "name": "stdout",
     "output_type": "stream",
     "text": [
      "['.ipynb_checkpoints', 'generated_1', 'generated_real_1_IBD', 'generated_real_2_DR', 'generated_real_3_HF', 'generated_real_4_PK', 'generated_real_5_TS', 'generated_real_6_HT', 'generated_real_7_BC', 'preprocessing.ipynb', 'real_1_IBD', 'real_2_DR', 'real_3_HF', 'real_4_PK', 'real_5_TS', 'real_6_HT', 'real_7_BC']\n"
     ]
    }
   ],
   "source": [
    "folder_dir = '../dataset/3.preprocessed'\n",
    "\n",
    "list_data = os.listdir(folder_dir)\n",
    "print(list_data)"
   ]
  },
  {
   "cell_type": "code",
   "execution_count": 4,
   "id": "3f23fa96",
   "metadata": {},
   "outputs": [
    {
     "name": "stdout",
     "output_type": "stream",
     "text": [
      "DATA CUT\n",
      "real_7_BC\n",
      "STOP by average AUC under 0.55\n",
      "DATA CUT\n",
      "real_7_BC/corr_cut/0.3\n",
      "AUC not available \n",
      "DATA CUT\n",
      "real_7_BC/corr_cut/0.5\n",
      "AUC not available \n",
      "DATA CUT\n",
      "real_7_BC/corr_cut/0.7\n",
      "STOP by average AUC under 0.55\n",
      "DATA CUT\n",
      "real_7_BC/corr_cut/0.9\n",
      "STOP by average AUC under 0.55\n"
     ]
    }
   ],
   "source": [
    "folder_loc = 'real_7_BC'\n",
    "\n",
    "loc  = folder_loc\n",
    "# functions.feature_cut(\"%s\"%loc)\n",
    "functions.data_cut(\"%s\"%loc)\n",
    "\n",
    "for corr in [0.3,0.5,0.7,0.9]:\n",
    "    loc  = folder_loc+\"/corr_cut/%s\"%corr\n",
    "    functions.data_cut(\"%s\"%loc)"
   ]
  },
  {
   "cell_type": "code",
   "execution_count": 5,
   "id": "ad09c49b",
   "metadata": {},
   "outputs": [
    {
     "name": "stdout",
     "output_type": "stream",
     "text": [
      "FEATURE CUT\n",
      "generated_real_7_BC\n",
      "DATA CUT\n",
      "generated_real_7_BC\n",
      "AUC not available \n",
      "DATA CUT\n",
      "generated_real_7_BC/corr_cut/0.3\n",
      "AUC not available \n",
      "DATA CUT\n",
      "generated_real_7_BC/corr_cut/0.5\n",
      "AUC not available \n",
      "DATA CUT\n",
      "generated_real_7_BC/corr_cut/0.7\n",
      "AUC not available \n",
      "DATA CUT\n",
      "generated_real_7_BC/corr_cut/0.9\n",
      "AUC not available \n"
     ]
    }
   ],
   "source": [
    "loc  = \"generated_\"+folder_loc\n",
    "functions.feature_cut(\"%s\"%loc)\n",
    "functions.data_cut(\"%s\"%loc)\n",
    "\n",
    "for corr in [0.3,0.5,0.7,0.9]:\n",
    "    loc  = \"generated_\"+folder_loc+\"/corr_cut/%s\"%corr\n",
    "    functions.data_cut(\"%s\"%loc)\n",
    "\n",
    "\n"
   ]
  },
  {
   "cell_type": "code",
   "execution_count": null,
   "id": "1f060042",
   "metadata": {},
   "outputs": [],
   "source": []
  },
  {
   "cell_type": "code",
   "execution_count": 6,
   "id": "b1cc3173",
   "metadata": {},
   "outputs": [
    {
     "name": "stdout",
     "output_type": "stream",
     "text": [
      "FEATURE CUT\n",
      "real_1_IBD\n",
      "DATA CUT\n",
      "real_1_IBD\n",
      "AUC not available \n",
      "FEATURE CUT\n",
      "real_1_IBD/corr_cut/0.3\n",
      "DATA CUT\n",
      "real_1_IBD/corr_cut/0.3\n",
      "AUC not available \n",
      "FEATURE CUT\n",
      "real_1_IBD/corr_cut/0.5\n",
      "DATA CUT\n",
      "real_1_IBD/corr_cut/0.5\n",
      "AUC not available \n",
      "FEATURE CUT\n",
      "real_1_IBD/corr_cut/0.7\n",
      "DATA CUT\n",
      "real_1_IBD/corr_cut/0.7\n",
      "AUC not available \n",
      "FEATURE CUT\n",
      "real_1_IBD/corr_cut/0.9\n",
      "DATA CUT\n",
      "real_1_IBD/corr_cut/0.9\n",
      "AUC not available \n"
     ]
    }
   ],
   "source": [
    "folder_loc = 'real_1_IBD'\n",
    "\n",
    "loc  = folder_loc\n",
    "functions.feature_cut(\"%s\"%loc)\n",
    "functions.data_cut(\"%s\"%loc)\n",
    "\n",
    "for corr in [0.3,0.5,0.7,0.9]:\n",
    "    loc  = folder_loc+\"/corr_cut/%s\"%corr\n",
    "    functions.feature_cut(\"%s\"%loc)\n",
    "    functions.data_cut(\"%s\"%loc)"
   ]
  },
  {
   "cell_type": "code",
   "execution_count": 7,
   "id": "7c71a242",
   "metadata": {},
   "outputs": [
    {
     "name": "stdout",
     "output_type": "stream",
     "text": [
      "FEATURE CUT\n",
      "generated_real_1_IBD\n",
      "DATA CUT\n",
      "generated_real_1_IBD\n",
      "AUC not available \n",
      "FEATURE CUT\n",
      "generated_real_1_IBD/corr_cut/0.3\n",
      "DATA CUT\n",
      "generated_real_1_IBD/corr_cut/0.3\n",
      "AUC not available \n",
      "FEATURE CUT\n",
      "generated_real_1_IBD/corr_cut/0.5\n",
      "DATA CUT\n",
      "generated_real_1_IBD/corr_cut/0.5\n",
      "AUC not available \n",
      "FEATURE CUT\n",
      "generated_real_1_IBD/corr_cut/0.7\n",
      "DATA CUT\n",
      "generated_real_1_IBD/corr_cut/0.7\n",
      "AUC not available \n",
      "FEATURE CUT\n",
      "generated_real_1_IBD/corr_cut/0.9\n",
      "DATA CUT\n",
      "generated_real_1_IBD/corr_cut/0.9\n",
      "AUC not available \n"
     ]
    }
   ],
   "source": [
    "loc  = \"generated_\"+folder_loc\n",
    "functions.feature_cut(\"%s\"%loc)\n",
    "functions.data_cut(\"%s\"%loc)\n",
    "\n",
    "for corr in [0.3,0.5,0.7,0.9]:\n",
    "    loc  = \"generated_\"+folder_loc+\"/corr_cut/%s\"%corr\n",
    "    functions.feature_cut(\"%s\"%loc)\n",
    "    functions.data_cut(\"%s\"%loc)\n",
    "\n",
    "\n"
   ]
  },
  {
   "cell_type": "code",
   "execution_count": null,
   "id": "0d2c5e05",
   "metadata": {},
   "outputs": [],
   "source": []
  },
  {
   "cell_type": "code",
   "execution_count": 8,
   "id": "572be11e",
   "metadata": {},
   "outputs": [
    {
     "name": "stdout",
     "output_type": "stream",
     "text": [
      "FEATURE CUT\n",
      "real_3_HF\n",
      "DATA CUT\n",
      "real_3_HF\n",
      "AUC not available \n",
      "FEATURE CUT\n",
      "real_3_HF/corr_cut/0.3\n",
      "DATA CUT\n",
      "real_3_HF/corr_cut/0.3\n",
      "AUC not available \n",
      "FEATURE CUT\n",
      "real_3_HF/corr_cut/0.5\n",
      "DATA CUT\n",
      "real_3_HF/corr_cut/0.5\n",
      "AUC not available \n",
      "FEATURE CUT\n",
      "real_3_HF/corr_cut/0.7\n",
      "DATA CUT\n",
      "real_3_HF/corr_cut/0.7\n",
      "AUC not available \n",
      "FEATURE CUT\n",
      "real_3_HF/corr_cut/0.9\n",
      "DATA CUT\n",
      "real_3_HF/corr_cut/0.9\n",
      "AUC not available \n"
     ]
    }
   ],
   "source": [
    "folder_loc = 'real_3_HF'\n",
    "\n",
    "loc  = folder_loc\n",
    "functions.feature_cut(\"%s\"%loc)\n",
    "functions.data_cut(\"%s\"%loc)\n",
    "\n",
    "for corr in [0.3,0.5,0.7,0.9]:\n",
    "    loc  = folder_loc+\"/corr_cut/%s\"%corr\n",
    "    functions.feature_cut(\"%s\"%loc)\n",
    "    functions.data_cut(\"%s\"%loc)"
   ]
  },
  {
   "cell_type": "code",
   "execution_count": 9,
   "id": "ec91d412",
   "metadata": {},
   "outputs": [
    {
     "name": "stdout",
     "output_type": "stream",
     "text": [
      "FEATURE CUT\n",
      "generated_real_3_HF\n",
      "DATA CUT\n",
      "generated_real_3_HF\n",
      "AUC not available \n",
      "FEATURE CUT\n",
      "generated_real_3_HF/corr_cut/0.3\n",
      "DATA CUT\n",
      "generated_real_3_HF/corr_cut/0.3\n",
      "AUC not available \n",
      "FEATURE CUT\n",
      "generated_real_3_HF/corr_cut/0.5\n",
      "DATA CUT\n",
      "generated_real_3_HF/corr_cut/0.5\n",
      "AUC not available \n",
      "FEATURE CUT\n",
      "generated_real_3_HF/corr_cut/0.7\n",
      "DATA CUT\n",
      "generated_real_3_HF/corr_cut/0.7\n",
      "AUC not available \n",
      "FEATURE CUT\n",
      "generated_real_3_HF/corr_cut/0.9\n",
      "DATA CUT\n",
      "generated_real_3_HF/corr_cut/0.9\n",
      "AUC not available \n"
     ]
    }
   ],
   "source": [
    "loc  = \"generated_\"+folder_loc\n",
    "functions.feature_cut(\"%s\"%loc)\n",
    "functions.data_cut(\"%s\"%loc)\n",
    "\n",
    "for corr in [0.3,0.5,0.7,0.9]:\n",
    "    loc  = \"generated_\"+folder_loc+\"/corr_cut/%s\"%corr\n",
    "    functions.feature_cut(\"%s\"%loc)\n",
    "    functions.data_cut(\"%s\"%loc)\n",
    "\n",
    "\n"
   ]
  },
  {
   "cell_type": "code",
   "execution_count": null,
   "id": "72766e56",
   "metadata": {},
   "outputs": [],
   "source": []
  },
  {
   "cell_type": "code",
   "execution_count": null,
   "id": "5b5cd232",
   "metadata": {},
   "outputs": [],
   "source": []
  }
 ],
 "metadata": {
  "kernelspec": {
   "display_name": "Python 3 (ipykernel)",
   "language": "python",
   "name": "python3"
  },
  "language_info": {
   "codemirror_mode": {
    "name": "ipython",
    "version": 3
   },
   "file_extension": ".py",
   "mimetype": "text/x-python",
   "name": "python",
   "nbconvert_exporter": "python",
   "pygments_lexer": "ipython3",
   "version": "3.9.7"
  }
 },
 "nbformat": 4,
 "nbformat_minor": 5
}
