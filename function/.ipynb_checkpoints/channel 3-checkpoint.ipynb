{
 "cells": [
  {
   "cell_type": "code",
   "execution_count": 1,
   "id": "bb78b4bc",
   "metadata": {},
   "outputs": [],
   "source": [
    "import functions\n",
    "import os"
   ]
  },
  {
   "cell_type": "code",
   "execution_count": null,
   "id": "a3db0b4a",
   "metadata": {},
   "outputs": [],
   "source": []
  },
  {
   "cell_type": "code",
   "execution_count": 2,
   "id": "063dfd9b",
   "metadata": {},
   "outputs": [
    {
     "name": "stdout",
     "output_type": "stream",
     "text": [
      "FEATURE CUT\n",
      "real_4_PK\n",
      "DATA CUT\n",
      "real_4_PK\n",
      "AUC not available \n",
      "FEATURE CUT\n",
      "real_4_PK/corr_cut/0.3\n",
      "DATA CUT\n",
      "real_4_PK/corr_cut/0.3\n",
      "AUC not available \n",
      "FEATURE CUT\n",
      "real_4_PK/corr_cut/0.5\n",
      "DATA CUT\n",
      "real_4_PK/corr_cut/0.5\n",
      "AUC not available \n",
      "FEATURE CUT\n",
      "real_4_PK/corr_cut/0.7\n",
      "DATA CUT\n",
      "real_4_PK/corr_cut/0.7\n",
      "AUC not available \n",
      "FEATURE CUT\n",
      "real_4_PK/corr_cut/0.9\n",
      "DATA CUT\n",
      "real_4_PK/corr_cut/0.9\n",
      "AUC not available \n"
     ]
    }
   ],
   "source": [
    "folder_loc = 'real_4_PK'\n",
    "\n",
    "loc  = folder_loc\n",
    "functions.feature_cut(\"%s\"%loc)\n",
    "functions.data_cut(\"%s\"%loc)\n",
    "\n",
    "for corr in [0.3,0.5,0.7,0.9]:\n",
    "    loc  = folder_loc+\"/corr_cut/%s\"%corr\n",
    "    functions.feature_cut(\"%s\"%loc)\n",
    "    functions.data_cut(\"%s\"%loc)"
   ]
  },
  {
   "cell_type": "code",
   "execution_count": 3,
   "id": "ffd34f59",
   "metadata": {},
   "outputs": [
    {
     "name": "stdout",
     "output_type": "stream",
     "text": [
      "FEATURE CUT\n",
      "generated_real_4_PK\n",
      "DATA CUT\n",
      "generated_real_4_PK\n",
      "AUC not available \n",
      "FEATURE CUT\n",
      "generated_real_4_PK/corr_cut/0.3\n",
      "DATA CUT\n",
      "generated_real_4_PK/corr_cut/0.3\n",
      "AUC not available \n",
      "FEATURE CUT\n",
      "generated_real_4_PK/corr_cut/0.5\n",
      "DATA CUT\n",
      "generated_real_4_PK/corr_cut/0.5\n",
      "AUC not available \n",
      "FEATURE CUT\n",
      "generated_real_4_PK/corr_cut/0.7\n",
      "DATA CUT\n",
      "generated_real_4_PK/corr_cut/0.7\n",
      "AUC not available \n",
      "FEATURE CUT\n",
      "generated_real_4_PK/corr_cut/0.9\n",
      "DATA CUT\n",
      "generated_real_4_PK/corr_cut/0.9\n",
      "AUC not available \n"
     ]
    }
   ],
   "source": [
    "loc  = \"generated_\"+folder_loc\n",
    "functions.feature_cut(\"%s\"%loc)\n",
    "functions.data_cut(\"%s\"%loc)\n",
    "\n",
    "for corr in [0.3,0.5,0.7,0.9]:\n",
    "    loc  = \"generated_\"+folder_loc+\"/corr_cut/%s\"%corr\n",
    "    functions.feature_cut(\"%s\"%loc)\n",
    "    functions.data_cut(\"%s\"%loc)\n",
    "\n",
    "\n"
   ]
  },
  {
   "cell_type": "code",
   "execution_count": null,
   "id": "7f3e3512",
   "metadata": {},
   "outputs": [],
   "source": []
  },
  {
   "cell_type": "code",
   "execution_count": 4,
   "id": "30b01323",
   "metadata": {},
   "outputs": [
    {
     "name": "stdout",
     "output_type": "stream",
     "text": [
      "FEATURE CUT\n",
      "real_6_HT\n",
      "DATA CUT\n",
      "real_6_HT\n",
      "AUC not available \n",
      "FEATURE CUT\n",
      "real_6_HT/corr_cut/0.3\n",
      "DATA CUT\n",
      "real_6_HT/corr_cut/0.3\n",
      "AUC not available \n",
      "FEATURE CUT\n",
      "real_6_HT/corr_cut/0.5\n",
      "DATA CUT\n",
      "real_6_HT/corr_cut/0.5\n",
      "AUC not available \n",
      "FEATURE CUT\n",
      "real_6_HT/corr_cut/0.7\n",
      "DATA CUT\n",
      "real_6_HT/corr_cut/0.7\n",
      "AUC not available \n",
      "FEATURE CUT\n",
      "real_6_HT/corr_cut/0.9\n",
      "DATA CUT\n",
      "real_6_HT/corr_cut/0.9\n",
      "AUC not available \n"
     ]
    }
   ],
   "source": [
    "folder_loc = 'real_6_HT'\n",
    "\n",
    "loc  = folder_loc\n",
    "functions.feature_cut(\"%s\"%loc)\n",
    "functions.data_cut(\"%s\"%loc)\n",
    "\n",
    "for corr in [0.3,0.5,0.7,0.9]:\n",
    "    loc  = folder_loc+\"/corr_cut/%s\"%corr\n",
    "    functions.feature_cut(\"%s\"%loc)\n",
    "    functions.data_cut(\"%s\"%loc)"
   ]
  },
  {
   "cell_type": "code",
   "execution_count": 5,
   "id": "abd9b42e",
   "metadata": {},
   "outputs": [
    {
     "name": "stdout",
     "output_type": "stream",
     "text": [
      "FEATURE CUT\n",
      "generated_real_6_HT\n",
      "DATA CUT\n",
      "generated_real_6_HT\n",
      "AUC not available \n",
      "FEATURE CUT\n",
      "generated_real_6_HT/corr_cut/0.3\n",
      "DATA CUT\n",
      "generated_real_6_HT/corr_cut/0.3\n",
      "AUC not available \n",
      "FEATURE CUT\n",
      "generated_real_6_HT/corr_cut/0.5\n",
      "DATA CUT\n",
      "generated_real_6_HT/corr_cut/0.5\n",
      "AUC not available \n",
      "FEATURE CUT\n",
      "generated_real_6_HT/corr_cut/0.7\n",
      "DATA CUT\n",
      "generated_real_6_HT/corr_cut/0.7\n",
      "AUC not available \n",
      "FEATURE CUT\n",
      "generated_real_6_HT/corr_cut/0.9\n",
      "DATA CUT\n",
      "generated_real_6_HT/corr_cut/0.9\n",
      "AUC not available \n"
     ]
    }
   ],
   "source": [
    "loc  = \"generated_\"+folder_loc\n",
    "functions.feature_cut(\"%s\"%loc)\n",
    "functions.data_cut(\"%s\"%loc)\n",
    "\n",
    "for corr in [0.3,0.5,0.7,0.9]:\n",
    "    loc  = \"generated_\"+folder_loc+\"/corr_cut/%s\"%corr\n",
    "    functions.feature_cut(\"%s\"%loc)\n",
    "    functions.data_cut(\"%s\"%loc)\n",
    "\n",
    "\n"
   ]
  },
  {
   "cell_type": "code",
   "execution_count": null,
   "id": "10e854bd",
   "metadata": {},
   "outputs": [],
   "source": []
  },
  {
   "cell_type": "code",
   "execution_count": null,
   "id": "7c85ba8a",
   "metadata": {},
   "outputs": [],
   "source": []
  },
  {
   "cell_type": "code",
   "execution_count": null,
   "id": "3d66ac35",
   "metadata": {},
   "outputs": [],
   "source": []
  },
  {
   "cell_type": "code",
   "execution_count": null,
   "id": "3eb4ec51",
   "metadata": {},
   "outputs": [],
   "source": []
  },
  {
   "cell_type": "code",
   "execution_count": null,
   "id": "16479fe2",
   "metadata": {},
   "outputs": [],
   "source": []
  },
  {
   "cell_type": "code",
   "execution_count": null,
   "id": "0cee7e39",
   "metadata": {},
   "outputs": [],
   "source": []
  }
 ],
 "metadata": {
  "kernelspec": {
   "display_name": "Python 3 (ipykernel)",
   "language": "python",
   "name": "python3"
  },
  "language_info": {
   "codemirror_mode": {
    "name": "ipython",
    "version": 3
   },
   "file_extension": ".py",
   "mimetype": "text/x-python",
   "name": "python",
   "nbconvert_exporter": "python",
   "pygments_lexer": "ipython3",
   "version": "3.9.7"
  }
 },
 "nbformat": 4,
 "nbformat_minor": 5
}
