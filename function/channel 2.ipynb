{
 "cells": [
  {
   "cell_type": "code",
   "execution_count": 8,
   "id": "58fe2d65",
   "metadata": {},
   "outputs": [],
   "source": [
    "import functions\n",
    "import os"
   ]
  },
  {
   "cell_type": "code",
   "execution_count": 3,
   "id": "85bbfbd3",
   "metadata": {},
   "outputs": [
    {
     "name": "stdout",
     "output_type": "stream",
     "text": [
      "DATA CUT\n",
      "generated_1\n",
      "AUC not available \n"
     ]
    },
    {
     "data": {
      "text/plain": [
       "array([[1.00000000e+04, 9.67489169e-01],\n",
       "       [5.00000000e+03, 9.62731519e-01],\n",
       "       [2.50000000e+03, 9.57865454e-01],\n",
       "       [1.25000000e+03, 9.50421868e-01],\n",
       "       [6.25000000e+02, 9.31363986e-01],\n",
       "       [3.12000000e+02, 9.08271169e-01],\n",
       "       [1.56000000e+02, 8.84667969e-01],\n",
       "       [1.17000000e+02, 8.61354167e-01],\n",
       "       [7.80000000e+01, 8.32812500e-01],\n",
       "       [3.90000000e+01, 8.08750000e-01],\n",
       "       [2.90000000e+01, 7.92222222e-01],\n",
       "       [2.40000000e+01, 7.50000000e-01],\n",
       "       [2.00000000e+01, 7.10000000e-01],\n",
       "       [1.00000000e+01, 6.75000000e-01]])"
      ]
     },
     "execution_count": 3,
     "metadata": {},
     "output_type": "execute_result"
    }
   ],
   "source": [
    "folder_loc = 'generated_1'\n",
    "\n",
    "loc  = folder_loc\n",
    "functions.data_cut(\"%s\"%loc)\n"
   ]
  },
  {
   "cell_type": "code",
   "execution_count": 9,
   "id": "f65a7f4b",
   "metadata": {},
   "outputs": [
    {
     "name": "stdout",
     "output_type": "stream",
     "text": [
      "DATA CUT\n",
      "generated_2\n",
      "AUC not available \n",
      "FEATURE CUT\n",
      "generated_2\n"
     ]
    },
    {
     "data": {
      "text/plain": [
       "array([[20.        ,  0.965279  ],\n",
       "       [19.        ,  0.92444051],\n",
       "       [18.        ,  0.88422795],\n",
       "       [17.        ,  0.84275199],\n",
       "       [16.        ,  0.80038489],\n",
       "       [15.        ,  0.76449795],\n",
       "       [14.        ,  0.72909279],\n",
       "       [13.        ,  0.69820735],\n",
       "       [12.        ,  0.67060417],\n",
       "       [11.        ,  0.64240203],\n",
       "       [10.        ,  0.61095295],\n",
       "       [ 8.        ,  0.56514087],\n",
       "       [ 7.        ,  0.53618439],\n",
       "       [ 5.        ,  0.51406759]])"
      ]
     },
     "execution_count": 9,
     "metadata": {},
     "output_type": "execute_result"
    }
   ],
   "source": [
    "folder_loc = 'generated_2'\n",
    "\n",
    "loc  = folder_loc\n",
    "functions.data_cut(\"%s\"%loc)\n",
    "functions.feature_cut(\"%s\"%loc)\n"
   ]
  },
  {
   "cell_type": "code",
   "execution_count": 10,
   "id": "6101acf8",
   "metadata": {},
   "outputs": [
    {
     "name": "stdout",
     "output_type": "stream",
     "text": [
      "DATA CUT\n",
      "generated_3\n",
      "AUC not available \n",
      "FEATURE CUT\n",
      "generated_3\n"
     ]
    },
    {
     "data": {
      "text/plain": [
       "array([[20.        ,  0.96731227],\n",
       "       [19.        ,  0.92803543],\n",
       "       [18.        ,  0.89210907],\n",
       "       [17.        ,  0.85375165],\n",
       "       [16.        ,  0.81680603],\n",
       "       [15.        ,  0.78679929],\n",
       "       [14.        ,  0.75171923],\n",
       "       [13.        ,  0.72054783],\n",
       "       [12.        ,  0.68222409],\n",
       "       [11.        ,  0.65173805],\n",
       "       [10.        ,  0.61937857],\n",
       "       [ 8.        ,  0.57562553],\n",
       "       [ 7.        ,  0.54639928],\n",
       "       [ 5.        ,  0.52117851]])"
      ]
     },
     "execution_count": 10,
     "metadata": {},
     "output_type": "execute_result"
    }
   ],
   "source": [
    "folder_loc = 'generated_3'\n",
    "\n",
    "loc  = folder_loc\n",
    "functions.data_cut(\"%s\"%loc)\n",
    "functions.feature_cut(\"%s\"%loc)\n"
   ]
  },
  {
   "cell_type": "code",
   "execution_count": null,
   "id": "7f53ca72",
   "metadata": {},
   "outputs": [],
   "source": []
  },
  {
   "cell_type": "code",
   "execution_count": null,
   "id": "764c0bbe",
   "metadata": {},
   "outputs": [],
   "source": []
  },
  {
   "cell_type": "code",
   "execution_count": null,
   "id": "58405b1c",
   "metadata": {},
   "outputs": [],
   "source": []
  },
  {
   "cell_type": "code",
   "execution_count": null,
   "id": "c3df9889",
   "metadata": {},
   "outputs": [],
   "source": []
  },
  {
   "cell_type": "code",
   "execution_count": 4,
   "id": "2e697f22",
   "metadata": {},
   "outputs": [
    {
     "name": "stdout",
     "output_type": "stream",
     "text": [
      "DATA CUT\n",
      "real_2_DR\n",
      "STOP by average AUC under 0.55\n",
      "DATA CUT\n",
      "real_2_DR/corr_cut/0.3\n",
      "STOP by average AUC under 0.55\n",
      "DATA CUT\n",
      "real_2_DR/corr_cut/0.5\n",
      "AUC not available \n",
      "DATA CUT\n",
      "real_2_DR/corr_cut/0.7\n",
      "AUC not available \n",
      "DATA CUT\n",
      "real_2_DR/corr_cut/0.9\n",
      "STOP by average AUC under 0.55\n"
     ]
    }
   ],
   "source": [
    "folder_loc = 'real_2_DR'\n",
    "\n",
    "loc  = folder_loc\n",
    "functions.data_cut(\"%s\"%loc)\n",
    "\n",
    "for corr in [0.3,0.5,0.7,0.9]:\n",
    "    loc  = folder_loc+\"/corr_cut/%s\"%corr\n",
    "    functions.data_cut(\"%s\"%loc)"
   ]
  },
  {
   "cell_type": "code",
   "execution_count": 5,
   "id": "feaa530c",
   "metadata": {},
   "outputs": [
    {
     "name": "stdout",
     "output_type": "stream",
     "text": [
      "FEATURE CUT\n",
      "generated_real_2_DR\n",
      "DATA CUT\n",
      "generated_real_2_DR\n",
      "AUC not available \n",
      "FEATURE CUT\n",
      "generated_real_2_DR/corr_cut/0.3\n",
      "DATA CUT\n",
      "generated_real_2_DR/corr_cut/0.3\n",
      "AUC not available \n",
      "FEATURE CUT\n",
      "generated_real_2_DR/corr_cut/0.5\n",
      "DATA CUT\n",
      "generated_real_2_DR/corr_cut/0.5\n",
      "AUC not available \n",
      "FEATURE CUT\n",
      "generated_real_2_DR/corr_cut/0.7\n",
      "DATA CUT\n",
      "generated_real_2_DR/corr_cut/0.7\n",
      "AUC not available \n",
      "FEATURE CUT\n",
      "generated_real_2_DR/corr_cut/0.9\n",
      "DATA CUT\n",
      "generated_real_2_DR/corr_cut/0.9\n",
      "AUC not available \n"
     ]
    }
   ],
   "source": [
    "loc  = \"generated_\"+folder_loc\n",
    "functions.feature_cut(\"%s\"%loc)\n",
    "functions.data_cut(\"%s\"%loc)\n",
    "\n",
    "for corr in [0.3,0.5,0.7,0.9]:\n",
    "    loc  = \"generated_\"+folder_loc+\"/corr_cut/%s\"%corr\n",
    "    functions.feature_cut(\"%s\"%loc)\n",
    "    functions.data_cut(\"%s\"%loc)\n",
    "\n",
    "\n"
   ]
  },
  {
   "cell_type": "code",
   "execution_count": 6,
   "id": "567d3ac4",
   "metadata": {},
   "outputs": [
    {
     "name": "stdout",
     "output_type": "stream",
     "text": [
      "FEATURE CUT\n",
      "real_5_TS\n",
      "DATA CUT\n",
      "real_5_TS\n",
      "STOP by average AUC under 0.55\n",
      "FEATURE CUT\n",
      "real_5_TS/corr_cut/0.3\n",
      "DATA CUT\n",
      "real_5_TS/corr_cut/0.3\n",
      "STOP by average AUC under 0.55\n",
      "FEATURE CUT\n",
      "real_5_TS/corr_cut/0.5\n",
      "DATA CUT\n",
      "real_5_TS/corr_cut/0.5\n",
      "STOP by average AUC under 0.55\n",
      "FEATURE CUT\n",
      "real_5_TS/corr_cut/0.7\n",
      "DATA CUT\n",
      "real_5_TS/corr_cut/0.7\n",
      "STOP by average AUC under 0.55\n",
      "FEATURE CUT\n",
      "real_5_TS/corr_cut/0.9\n",
      "DATA CUT\n",
      "real_5_TS/corr_cut/0.9\n",
      "STOP by average AUC under 0.55\n"
     ]
    }
   ],
   "source": [
    "folder_loc = 'real_5_TS'\n",
    "\n",
    "loc  = folder_loc\n",
    "functions.feature_cut(\"%s\"%loc)\n",
    "functions.data_cut(\"%s\"%loc)\n",
    "\n",
    "for corr in [0.3,0.5,0.7,0.9]:\n",
    "    loc  = folder_loc+\"/corr_cut/%s\"%corr\n",
    "    functions.feature_cut(\"%s\"%loc)\n",
    "    functions.data_cut(\"%s\"%loc)"
   ]
  },
  {
   "cell_type": "code",
   "execution_count": 7,
   "id": "0b9eea91",
   "metadata": {},
   "outputs": [
    {
     "name": "stdout",
     "output_type": "stream",
     "text": [
      "FEATURE CUT\n",
      "generated_real_5_TS\n",
      "DATA CUT\n",
      "generated_real_5_TS\n",
      "AUC not available \n",
      "FEATURE CUT\n",
      "generated_real_5_TS/corr_cut/0.3\n",
      "DATA CUT\n",
      "generated_real_5_TS/corr_cut/0.3\n",
      "AUC not available \n",
      "FEATURE CUT\n",
      "generated_real_5_TS/corr_cut/0.5\n",
      "DATA CUT\n",
      "generated_real_5_TS/corr_cut/0.5\n",
      "AUC not available \n",
      "FEATURE CUT\n",
      "generated_real_5_TS/corr_cut/0.7\n",
      "DATA CUT\n",
      "generated_real_5_TS/corr_cut/0.7\n",
      "AUC not available \n",
      "FEATURE CUT\n",
      "generated_real_5_TS/corr_cut/0.9\n",
      "DATA CUT\n",
      "generated_real_5_TS/corr_cut/0.9\n",
      "AUC not available \n"
     ]
    }
   ],
   "source": [
    "loc  = \"generated_\"+folder_loc\n",
    "functions.feature_cut(\"%s\"%loc)\n",
    "functions.data_cut(\"%s\"%loc)\n",
    "\n",
    "for corr in [0.3,0.5,0.7,0.9]:\n",
    "    loc  = \"generated_\"+folder_loc+\"/corr_cut/%s\"%corr\n",
    "    functions.feature_cut(\"%s\"%loc)\n",
    "    functions.data_cut(\"%s\"%loc)\n",
    "\n",
    "\n"
   ]
  },
  {
   "cell_type": "code",
   "execution_count": null,
   "id": "f7d92918",
   "metadata": {},
   "outputs": [],
   "source": []
  },
  {
   "cell_type": "code",
   "execution_count": null,
   "id": "dfdd3235",
   "metadata": {},
   "outputs": [],
   "source": []
  },
  {
   "cell_type": "code",
   "execution_count": null,
   "id": "efaaa9f4",
   "metadata": {},
   "outputs": [],
   "source": []
  },
  {
   "cell_type": "code",
   "execution_count": null,
   "id": "1c8127dd",
   "metadata": {},
   "outputs": [],
   "source": []
  },
  {
   "cell_type": "code",
   "execution_count": null,
   "id": "c20eac48",
   "metadata": {},
   "outputs": [],
   "source": []
  }
 ],
 "metadata": {
  "kernelspec": {
   "display_name": "Python 3 (ipykernel)",
   "language": "python",
   "name": "python3"
  },
  "language_info": {
   "codemirror_mode": {
    "name": "ipython",
    "version": 3
   },
   "file_extension": ".py",
   "mimetype": "text/x-python",
   "name": "python",
   "nbconvert_exporter": "python",
   "pygments_lexer": "ipython3",
   "version": "3.9.7"
  }
 },
 "nbformat": 4,
 "nbformat_minor": 5
}
