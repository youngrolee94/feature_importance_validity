{
 "cells": [
  {
   "cell_type": "code",
   "execution_count": 1,
   "id": "8dd97a55",
   "metadata": {},
   "outputs": [],
   "source": [
    "import os\n",
    "import shutil\n"
   ]
  },
  {
   "cell_type": "code",
   "execution_count": 2,
   "id": "bf13f273",
   "metadata": {},
   "outputs": [],
   "source": [
    "\n",
    "\n",
    "def process_folders(root_dir, target_folder_name, action, new_folder_name=None):\n",
    "    \"\"\"\n",
    "    특정 이름을 가진 폴더를 삭제하거나 이름을 변경합니다.\n",
    "\n",
    "    Parameters:\n",
    "    - root_dir (str): 탐색할 최상위 폴더 경로.\n",
    "    - target_folder_name (str): 처리 대상 폴더 이름.\n",
    "    - action (str): \"delete\" 또는 \"rename\".\n",
    "    - new_folder_name (str, optional): action이 \"rename\"일 때 사용할 새 폴더 이름.\n",
    "    \"\"\"\n",
    "    for dirpath, dirnames, filenames in os.walk(root_dir):\n",
    "        for folder in dirnames:\n",
    "            if folder == target_folder_name:\n",
    "                target_path = os.path.join(dirpath, folder)\n",
    "                \n",
    "                if action == \"delete\":\n",
    "                    # 폴더 및 내용 삭제\n",
    "                    shutil.rmtree(target_path)\n",
    "                    print(f\"Deleted folder: {target_path}\")\n",
    "                \n",
    "                elif action == \"rename\" and new_folder_name:\n",
    "                    # 폴더 이름 변경\n",
    "                    new_path = os.path.join(dirpath, new_folder_name)\n",
    "                    os.rename(target_path, new_path)\n",
    "                    print(f\"Renamed folder: {target_path} -> {new_path}\")\n",
    "                \n",
    "                else:\n",
    "                    print(\"Invalid action or missing new_folder_name for rename.\")\n"
   ]
  },
  {
   "cell_type": "code",
   "execution_count": 9,
   "id": "d4bfcf77",
   "metadata": {},
   "outputs": [
    {
     "name": "stdout",
     "output_type": "stream",
     "text": [
      "Renamed folder: C:\\Users\\Youngro\\Desktop\\temp\\feature_importance_weak_model\\dataset\\1.raw\\real_7_MS -> C:\\Users\\Youngro\\Desktop\\temp\\feature_importance_weak_model\\dataset\\1.raw\\real_4_MS\n",
      "Renamed folder: C:\\Users\\Youngro\\Desktop\\temp\\feature_importance_weak_model\\dataset\\2.array\\real_7_MS -> C:\\Users\\Youngro\\Desktop\\temp\\feature_importance_weak_model\\dataset\\2.array\\real_4_MS\n",
      "Renamed folder: C:\\Users\\Youngro\\Desktop\\temp\\feature_importance_weak_model\\dataset\\3.preprocessed\\real_7_MS -> C:\\Users\\Youngro\\Desktop\\temp\\feature_importance_weak_model\\dataset\\3.preprocessed\\real_4_MS\n",
      "Renamed folder: C:\\Users\\Youngro\\Desktop\\temp\\feature_importance_weak_model\\graph\\feature_distribution\\real_7_MS -> C:\\Users\\Youngro\\Desktop\\temp\\feature_importance_weak_model\\graph\\feature_distribution\\real_4_MS\n",
      "Renamed folder: C:\\Users\\Youngro\\Desktop\\temp\\feature_importance_weak_model\\graph\\stability\\real_7_MS -> C:\\Users\\Youngro\\Desktop\\temp\\feature_importance_weak_model\\graph\\stability\\real_4_MS\n",
      "Renamed folder: C:\\Users\\Youngro\\Desktop\\temp\\feature_importance_weak_model\\graph\\trimmed_stability\\real_7_MS -> C:\\Users\\Youngro\\Desktop\\temp\\feature_importance_weak_model\\graph\\trimmed_stability\\real_4_MS\n",
      "Renamed folder: C:\\Users\\Youngro\\Desktop\\temp\\feature_importance_weak_model\\result\\real_7_MS -> C:\\Users\\Youngro\\Desktop\\temp\\feature_importance_weak_model\\result\\real_4_MS\n"
     ]
    }
   ],
   "source": [
    "\n",
    "# 사용 예시\n",
    "root_dir = os.getcwd()  # 최상위 폴더 경로\n",
    "target_folder_name = \"real_7_MS\"  # 대상 폴더 이름\n",
    "action = \"rename\"  # \"delete\" 또는 \"rename\" 선택\n",
    "new_folder_name = \"real_4_MS\"  # \"rename\" 동작 시 새 폴더 이름\n",
    "\n",
    "# 함수 호출\n",
    "process_folders(root_dir, target_folder_name, action, new_folder_name)\n"
   ]
  },
  {
   "cell_type": "code",
   "execution_count": null,
   "id": "1e8002f4",
   "metadata": {},
   "outputs": [],
   "source": []
  }
 ],
 "metadata": {
  "kernelspec": {
   "display_name": "Python 3 (ipykernel)",
   "language": "python",
   "name": "python3"
  },
  "language_info": {
   "codemirror_mode": {
    "name": "ipython",
    "version": 3
   },
   "file_extension": ".py",
   "mimetype": "text/x-python",
   "name": "python",
   "nbconvert_exporter": "python",
   "pygments_lexer": "ipython3",
   "version": "3.8.16"
  }
 },
 "nbformat": 4,
 "nbformat_minor": 5
}
