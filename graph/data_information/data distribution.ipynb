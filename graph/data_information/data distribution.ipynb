{
 "cells": [
  {
   "cell_type": "code",
   "execution_count": 3,
   "metadata": {},
   "outputs": [],
   "source": [
    "\n",
    "import numpy as np\n",
    "from scipy.stats import norm\n",
    "import pandas as pd\n",
    "from sklearn.preprocessing import StandardScaler\n",
    "import os\n",
    "import matplotlib.pyplot as plt\n",
    "import seaborn as sns\n",
    "from sklearn.preprocessing import MinMaxScaler\n",
    "import sys"
   ]
  },
  {
   "cell_type": "code",
   "execution_count": 63,
   "metadata": {},
   "outputs": [
    {
     "name": "stdout",
     "output_type": "stream",
     "text": [
      "['.ipynb_checkpoints', 'generated_1', 'generated_2', 'generated_3', 'preprocessing.ipynb', 'real_1_IBD', 'real_2_DR', 'real_3_HF', 'real_4_TS', 'real_5_HT', 'real_6_BC']\n"
     ]
    }
   ],
   "source": [
    "folder_dir = '../../dataset/3.preprocessed/'\n",
    "\n",
    "list_data = os.listdir(folder_dir)\n",
    "print(list_data)"
   ]
  },
  {
   "cell_type": "code",
   "execution_count": 66,
   "metadata": {},
   "outputs": [],
   "source": [
    "list_data = ['generated_1', 'generated_2', 'generated_3',  'real_1_IBD', 'real_2_DR', 'real_3_HF', 'real_4_TS', 'real_5_HT', 'real_6_BC']"
   ]
  },
  {
   "cell_type": "code",
   "execution_count": 67,
   "metadata": {},
   "outputs": [],
   "source": [
    "data_characteristic = pd.DataFrame(index=['# of samples','# of positive samples','# of negative samples',\n",
    "                                          \n",
    "                                          '# of features','# of features with correlation<0.9',\n",
    "                                          '# of features with correlation<0.7','# of features with correlation<0.5','# of features with correlation<0.3'],\n",
    "                                   columns=list_data)                        \n",
    "\n",
    "\n",
    "\n",
    "for loc_folder in list_data:\n",
    "    features= np.load(folder_dir+loc_folder+\"/features.npy\")\n",
    "    label= np.load(folder_dir+loc_folder+\"/label.npy\")\n",
    "    \n",
    "    \n",
    "    data_characteristic.loc['# of samples'][loc_folder] = label.shape[0]\n",
    "    data_characteristic.loc['# of positive samples'][loc_folder] = \"%s (%s)\"%(np.sum(label==1),np.round(100*np.sum(label==1)/label.shape[0],1))\n",
    "    data_characteristic.loc['# of negative samples'][loc_folder] = \"%s (%s)\"%(np.sum(label==0),np.round(100*np.sum(label==0)/label.shape[0],1))\n",
    "    \n",
    "    \n",
    "    data_characteristic.loc['# of features'][loc_folder] = features.shape[1]\n",
    "\n",
    "    \n",
    "    \n",
    "    for corr_standard in [0.3,0.5,0.7,0.9]:\n",
    "        if 'generated' in loc_folder:\n",
    "            data_characteristic.loc['# of features with correlation<%s'%corr_standard][loc_folder] = 0\n",
    "\n",
    "        else:\n",
    "            corr_features= np.load(folder_dir+loc_folder+\"/corr_cut/%s/features.npy\"%corr_standard)\n",
    "            data_characteristic.loc['# of features with correlation<%s'%corr_standard][loc_folder] = \"%s (%s)\"%(corr_features.shape[1],np.round(100*corr_features.shape[1]/features.shape[1],1))\n",
    "data_characteristic.to_csv(\"data_characteristic.csv\")\n"
   ]
  },
  {
   "cell_type": "code",
   "execution_count": null,
   "metadata": {},
   "outputs": [],
   "source": []
  },
  {
   "cell_type": "code",
   "execution_count": null,
   "metadata": {},
   "outputs": [],
   "source": []
  },
  {
   "cell_type": "code",
   "execution_count": null,
   "metadata": {},
   "outputs": [],
   "source": []
  },
  {
   "cell_type": "code",
   "execution_count": null,
   "metadata": {},
   "outputs": [],
   "source": []
  },
  {
   "cell_type": "code",
   "execution_count": null,
   "metadata": {},
   "outputs": [],
   "source": []
  },
  {
   "cell_type": "code",
   "execution_count": null,
   "metadata": {},
   "outputs": [],
   "source": []
  },
  {
   "cell_type": "code",
   "execution_count": null,
   "metadata": {},
   "outputs": [],
   "source": []
  },
  {
   "cell_type": "code",
   "execution_count": null,
   "metadata": {},
   "outputs": [],
   "source": []
  },
  {
   "cell_type": "code",
   "execution_count": null,
   "metadata": {},
   "outputs": [],
   "source": []
  },
  {
   "cell_type": "code",
   "execution_count": null,
   "metadata": {},
   "outputs": [],
   "source": []
  },
  {
   "cell_type": "code",
   "execution_count": null,
   "metadata": {},
   "outputs": [],
   "source": [
    "\n"
   ]
  },
  {
   "cell_type": "code",
   "execution_count": null,
   "metadata": {},
   "outputs": [],
   "source": []
  },
  {
   "cell_type": "code",
   "execution_count": null,
   "metadata": {},
   "outputs": [],
   "source": []
  },
  {
   "cell_type": "code",
   "execution_count": null,
   "metadata": {},
   "outputs": [],
   "source": []
  }
 ],
 "metadata": {
  "kernelspec": {
   "display_name": "Python 3 (ipykernel)",
   "language": "python",
   "name": "python3"
  },
  "language_info": {
   "codemirror_mode": {
    "name": "ipython",
    "version": 3
   },
   "file_extension": ".py",
   "mimetype": "text/x-python",
   "name": "python",
   "nbconvert_exporter": "python",
   "pygments_lexer": "ipython3",
   "version": "3.9.7"
  }
 },
 "nbformat": 4,
 "nbformat_minor": 4
}
