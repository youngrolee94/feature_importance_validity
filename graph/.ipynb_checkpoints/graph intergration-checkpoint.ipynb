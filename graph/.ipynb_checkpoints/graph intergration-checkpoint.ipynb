{
 "cells": [
  {
   "cell_type": "code",
   "execution_count": null,
   "id": "b3966ab1",
   "metadata": {},
   "outputs": [],
   "source": [
    "import matplotlib.pyplot as plt\n",
    "from PIL import Image\n",
    "\n",
    "# 4개의 이미지를 불러올 경로 설정\n",
    "image_paths = [\n",
    "    \"figure1.png\",  # 첫 번째 이미지 경로\n",
    "    \"figure2.png\",  # 두 번째 이미지 경로\n",
    "    \"figure3.png\",  # 세 번째 이미지 경로\n",
    "    \"figure4.png\",  # 네 번째 이미지 경로\n",
    "]\n",
    "\n",
    "# 플롯 생성 (2x2 레이아웃)\n",
    "fig, axes = plt.subplots(2, 2, figsize=(10, 10))  # 2x2 grid\n",
    "\n",
    "# 이미지 불러와서 플롯에 추가\n",
    "for idx, ax in enumerate(axes.flat):  # 2x2 grid를 1차원으로 flatten\n",
    "    if idx < len(image_paths):\n",
    "        # 이미지 열기\n",
    "        img = Image.open(image_paths[idx])\n",
    "        ax.imshow(img)\n",
    "        ax.axis(\"off\")  # 축 제거\n",
    "        ax.set_title(f\"Figure {idx + 1}\", fontsize=12, fontweight=\"bold\")  # 제목 추가\n",
    "    else:\n",
    "        ax.axis(\"off\")  # 빈 공간은 비워 둠\n",
    "\n",
    "# 간격 조정\n",
    "plt.tight_layout()\n",
    "\n",
    "# 저장 또는 표시\n",
    "plt.savefig(\"combined_2x2_figure.jpg\", dpi=600, bbox_inches='tight')  # 결과를 저장\n",
    "plt.show()  # 화면에 표시"
   ]
  }
 ],
 "metadata": {
  "kernelspec": {
   "display_name": "Python 3 (ipykernel)",
   "language": "python",
   "name": "python3"
  },
  "language_info": {
   "codemirror_mode": {
    "name": "ipython",
    "version": 3
   },
   "file_extension": ".py",
   "mimetype": "text/x-python",
   "name": "python",
   "nbconvert_exporter": "python",
   "pygments_lexer": "ipython3",
   "version": "3.8.16"
  }
 },
 "nbformat": 4,
 "nbformat_minor": 5
}
