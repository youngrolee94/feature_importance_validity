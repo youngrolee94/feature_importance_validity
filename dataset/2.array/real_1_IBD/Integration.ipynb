{
 "cells": [
  {
   "cell_type": "code",
   "execution_count": 1,
   "id": "8bcfa4ae",
   "metadata": {},
   "outputs": [],
   "source": [
    "\n",
    "import numpy as np\n",
    "from scipy.stats import norm\n",
    "import pandas as pd\n",
    "\n",
    "\n",
    "import sys\n",
    "import os"
   ]
  },
  {
   "cell_type": "code",
   "execution_count": 2,
   "id": "893213b0",
   "metadata": {},
   "outputs": [],
   "source": [
    "features_training_1 = np.load('../../1.raw/real_1_IBD/1/training_features.npy')\n",
    "features_training_2 = np.load('../../1.raw/real_1_IBD/2/training_features.npy')\n",
    "label_training_1 = np.load('../../1.raw/real_1_IBD/1/training_ibd_label.npy')\n",
    "label_training_2 = np.load('../../1.raw/real_1_IBD/2/training_ibd_label.npy')\n",
    "\n",
    "features_test_1 = np.load('../../1.raw/real_1_IBD/1/test_features.npy')\n",
    "features_test_2 = np.load('../../1.raw/real_1_IBD/2/test_features.npy')\n",
    "label_test_1 = np.load('../../1.raw/real_1_IBD/1/test_ibd_label.npy')\n",
    "label_test_2 = np.load('../../1.raw/real_1_IBD/2/test_ibd_label.npy')\n",
    "\n"
   ]
  },
  {
   "cell_type": "code",
   "execution_count": 3,
   "id": "e1220843",
   "metadata": {},
   "outputs": [],
   "source": [
    "features = np.append(features_training_1,features_training_2,axis=0)\n",
    "features = np.append(features, features_test_1,axis=0)\n",
    "features = np.append(features, features_test_2,axis=0)\n",
    "\n",
    "\n",
    "label = np.append(label_training_1,label_training_2,axis=0)\n",
    "label = np.append(label, label_test_1,axis=0)\n",
    "label = np.append(label, label_test_2,axis=0)\n",
    "\n",
    "\n"
   ]
  },
  {
   "cell_type": "code",
   "execution_count": 4,
   "id": "235bd084",
   "metadata": {},
   "outputs": [],
   "source": [
    "np.save(\"features.npy\",features)\n",
    "np.save(\"label.npy\",label)"
   ]
  },
  {
   "cell_type": "code",
   "execution_count": null,
   "id": "e9b2a0b6",
   "metadata": {},
   "outputs": [],
   "source": []
  },
  {
   "cell_type": "code",
   "execution_count": null,
   "id": "3fa38bb8",
   "metadata": {},
   "outputs": [],
   "source": []
  }
 ],
 "metadata": {
  "kernelspec": {
   "display_name": "Python 3 (ipykernel)",
   "language": "python",
   "name": "python3"
  },
  "language_info": {
   "codemirror_mode": {
    "name": "ipython",
    "version": 3
   },
   "file_extension": ".py",
   "mimetype": "text/x-python",
   "name": "python",
   "nbconvert_exporter": "python",
   "pygments_lexer": "ipython3",
   "version": "3.9.7"
  }
 },
 "nbformat": 4,
 "nbformat_minor": 5
}
