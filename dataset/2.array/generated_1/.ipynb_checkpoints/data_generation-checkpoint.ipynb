{
 "cells": [
  {
   "cell_type": "code",
   "execution_count": 26,
   "metadata": {},
   "outputs": [],
   "source": [
    "\n",
    "import numpy as np\n",
    "from scipy.stats import norm\n",
    "import pandas as pd\n",
    "import sys\n",
    "sys.path.append('../../../')\n",
    "import function.functions"
   ]
  },
  {
   "cell_type": "code",
   "execution_count": 29,
   "metadata": {},
   "outputs": [
    {
     "data": {
      "text/plain": [
       "7"
      ]
     },
     "execution_count": 29,
     "metadata": {},
     "output_type": "execute_result"
    }
   ],
   "source": [
    "# function.functions.test(3,4)"
   ]
  },
  {
   "cell_type": "markdown",
   "metadata": {},
   "source": [
    "# generated_1 "
   ]
  },
  {
   "cell_type": "code",
   "execution_count": 35,
   "metadata": {},
   "outputs": [
    {
     "name": "stdout",
     "output_type": "stream",
     "text": [
      "[0.5488135  0.71518937 0.60276338 0.54488318 0.4236548  0.64589411\n",
      " 0.43758721 0.891773   0.96366276 0.38344152 0.79172504 0.52889492\n",
      " 0.56804456 0.92559664 0.07103606 0.0871293  0.0202184  0.83261985\n",
      " 0.77815675 0.87001215]\n",
      "(10000, 20)\n",
      "(10000,)\n",
      "5085\n"
     ]
    }
   ],
   "source": [
    "seed = 0\n",
    "data_num = 10000\n",
    "feature_num = 20\n",
    "generated_type = 1\n",
    "\n",
    "np.random.seed(seed)\n",
    "input_x = np.random.rand(data_num,feature_num)\n",
    "sum_output = np.zeros((data_num,))\n",
    "for i in range(feature_num):\n",
    "    sum_output += i*input_x[:,i]\n",
    "\n",
    "middle = (feature_num-1)*feature_num/4\n",
    "output_y = [0 if sum_output[i] < middle else 1 for i in range(data_num)]\n",
    "output_y = np.array(output_y)\n",
    "\n",
    "np.save(\"features.npy\",input_x)\n",
    "np.save(\"label.npy\",output_y)\n",
    "\n",
    "print(input_x[0,:])\n",
    "print(input_x.shape)\n",
    "print(output_y.shape)\n",
    "print(np.sum(output_y))\n",
    "\n"
   ]
  },
  {
   "cell_type": "code",
   "execution_count": null,
   "metadata": {},
   "outputs": [],
   "source": [
    "# features = np.load('features.npy')\n",
    "# label = np.load('label.npy')\n",
    "# performance,feature_importance,feature_importance_rank = function.functions.random_forest(features,label,\"generated_1\")\n"
   ]
  },
  {
   "cell_type": "code",
   "execution_count": null,
   "metadata": {},
   "outputs": [],
   "source": []
  },
  {
   "cell_type": "code",
   "execution_count": null,
   "metadata": {},
   "outputs": [],
   "source": []
  },
  {
   "cell_type": "code",
   "execution_count": null,
   "metadata": {},
   "outputs": [],
   "source": []
  }
 ],
 "metadata": {
  "kernelspec": {
   "display_name": "Python 3 (ipykernel)",
   "language": "python",
   "name": "python3"
  },
  "language_info": {
   "codemirror_mode": {
    "name": "ipython",
    "version": 3
   },
   "file_extension": ".py",
   "mimetype": "text/x-python",
   "name": "python",
   "nbconvert_exporter": "python",
   "pygments_lexer": "ipython3",
   "version": "3.9.7"
  }
 },
 "nbformat": 4,
 "nbformat_minor": 4
}
