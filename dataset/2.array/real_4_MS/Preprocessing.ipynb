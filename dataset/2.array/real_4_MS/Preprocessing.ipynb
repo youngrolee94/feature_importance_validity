{
 "cells": [
  {
   "cell_type": "code",
   "execution_count": 1,
   "metadata": {},
   "outputs": [],
   "source": [
    "from __future__ import print_function\n",
    "import matplotlib.pyplot as plt\n",
    "import numpy as np\n",
    "import os\n",
    "import sys\n",
    "import tarfile\n",
    "from IPython.display import display, Image\n",
    "from sklearn.linear_model import LogisticRegression\n",
    "from six.moves.urllib.request import urlretrieve\n",
    "from six.moves import cPickle as pickle\n",
    "\n",
    "import pandas as pd\n",
    "import openpyxl\n",
    "import xgboost as xgb\n",
    "from sklearn import metrics\n",
    "import sklearn\n",
    "import shap\n",
    "import seaborn as sns\n",
    "import random\n",
    "from sklearn.model_selection import train_test_split\n",
    "from sklearn.preprocessing import MinMaxScaler"
   ]
  },
  {
   "cell_type": "code",
   "execution_count": 2,
   "metadata": {},
   "outputs": [],
   "source": [
    "data_location = os.getcwd()+\"/../../1.raw/real_7_MS/Metabolic Syndrome.csv\"\n",
    "\n",
    "data = pd.read_csv(data_location)  \n"
   ]
  },
  {
   "cell_type": "code",
   "execution_count": 3,
   "metadata": {},
   "outputs": [],
   "source": [
    "data = data.drop(columns=['seqn'])\n",
    "data = data.dropna()"
   ]
  },
  {
   "cell_type": "code",
   "execution_count": 4,
   "metadata": {},
   "outputs": [],
   "source": [
    "data = pd.get_dummies(data, columns=['Race'], prefix='Race')\n",
    "data = pd.get_dummies(data, columns=['Sex', 'Marital'], prefix=['Sex', 'Marital'])"
   ]
  },
  {
   "cell_type": "code",
   "execution_count": 5,
   "metadata": {},
   "outputs": [
    {
     "data": {
      "text/plain": [
       "Index(['Age', 'Income', 'WaistCirc', 'BMI', 'Albuminuria', 'UrAlbCr',\n",
       "       'UricAcid', 'BloodGlucose', 'HDL', 'Triglycerides', 'MetabolicSyndrome',\n",
       "       'Race_Asian', 'Race_Black', 'Race_Hispanic', 'Race_MexAmerican',\n",
       "       'Race_Other', 'Race_White', 'Sex_Female', 'Sex_Male',\n",
       "       'Marital_Divorced', 'Marital_Married', 'Marital_Separated',\n",
       "       'Marital_Single', 'Marital_Widowed'],\n",
       "      dtype='object')"
      ]
     },
     "execution_count": 5,
     "metadata": {},
     "output_type": "execute_result"
    }
   ],
   "source": [
    "data.columns"
   ]
  },
  {
   "cell_type": "code",
   "execution_count": 6,
   "metadata": {},
   "outputs": [
    {
     "name": "stdout",
     "output_type": "stream",
     "text": [
      "219\n",
      "1098\n",
      "88\n",
      "460\n",
      "144\n"
     ]
    }
   ],
   "source": [
    "print(np.sum(data['Marital_Divorced']))\n",
    "print(np.sum(data['Marital_Married']))\n",
    "print(np.sum(data['Marital_Separated']))\n",
    "print(np.sum(data['Marital_Single']))\n",
    "print(np.sum(data['Marital_Widowed']))"
   ]
  },
  {
   "cell_type": "code",
   "execution_count": 7,
   "metadata": {},
   "outputs": [
    {
     "name": "stdout",
     "output_type": "stream",
     "text": [
      "295\n",
      "462\n",
      "198\n",
      "198\n",
      "50\n",
      "806\n"
     ]
    }
   ],
   "source": [
    "print(np.sum(data['Race_Asian']))\n",
    "print(np.sum(data['Race_Black']))\n",
    "print(np.sum(data['Race_Hispanic'])) \n",
    "print(np.sum(data['Race_MexAmerican']))\n",
    "print(np.sum(data['Race_Other']))\n",
    "print(np.sum(data['Race_White']))"
   ]
  },
  {
   "cell_type": "code",
   "execution_count": 8,
   "metadata": {},
   "outputs": [],
   "source": [
    "data = data.drop(columns=['Marital_Separated'])\n",
    "data = data.drop(columns=['Race_Other'])\n"
   ]
  },
  {
   "cell_type": "code",
   "execution_count": 9,
   "metadata": {},
   "outputs": [],
   "source": [
    "label = data['MetabolicSyndrome'].to_numpy()\n",
    "features = data.drop(columns=['MetabolicSyndrome']).to_numpy()\n",
    "\n"
   ]
  },
  {
   "cell_type": "code",
   "execution_count": 10,
   "metadata": {
    "scrolled": true
   },
   "outputs": [
    {
     "data": {
      "text/html": [
       "<div>\n",
       "<style scoped>\n",
       "    .dataframe tbody tr th:only-of-type {\n",
       "        vertical-align: middle;\n",
       "    }\n",
       "\n",
       "    .dataframe tbody tr th {\n",
       "        vertical-align: top;\n",
       "    }\n",
       "\n",
       "    .dataframe thead th {\n",
       "        text-align: right;\n",
       "    }\n",
       "</style>\n",
       "<table border=\"1\" class=\"dataframe\">\n",
       "  <thead>\n",
       "    <tr style=\"text-align: right;\">\n",
       "      <th></th>\n",
       "      <th>Age</th>\n",
       "      <th>Income</th>\n",
       "      <th>WaistCirc</th>\n",
       "      <th>BMI</th>\n",
       "      <th>Albuminuria</th>\n",
       "      <th>UrAlbCr</th>\n",
       "      <th>UricAcid</th>\n",
       "      <th>BloodGlucose</th>\n",
       "      <th>HDL</th>\n",
       "      <th>Triglycerides</th>\n",
       "      <th>...</th>\n",
       "      <th>Race_Black</th>\n",
       "      <th>Race_Hispanic</th>\n",
       "      <th>Race_MexAmerican</th>\n",
       "      <th>Race_White</th>\n",
       "      <th>Sex_Female</th>\n",
       "      <th>Sex_Male</th>\n",
       "      <th>Marital_Divorced</th>\n",
       "      <th>Marital_Married</th>\n",
       "      <th>Marital_Single</th>\n",
       "      <th>Marital_Widowed</th>\n",
       "    </tr>\n",
       "  </thead>\n",
       "  <tbody>\n",
       "    <tr>\n",
       "      <th>0</th>\n",
       "      <td>22</td>\n",
       "      <td>8200.0</td>\n",
       "      <td>81.0</td>\n",
       "      <td>23.3</td>\n",
       "      <td>0</td>\n",
       "      <td>3.88</td>\n",
       "      <td>4.9</td>\n",
       "      <td>92</td>\n",
       "      <td>41</td>\n",
       "      <td>84</td>\n",
       "      <td>...</td>\n",
       "      <td>0</td>\n",
       "      <td>0</td>\n",
       "      <td>0</td>\n",
       "      <td>1</td>\n",
       "      <td>0</td>\n",
       "      <td>1</td>\n",
       "      <td>0</td>\n",
       "      <td>0</td>\n",
       "      <td>1</td>\n",
       "      <td>0</td>\n",
       "    </tr>\n",
       "    <tr>\n",
       "      <th>1</th>\n",
       "      <td>44</td>\n",
       "      <td>4500.0</td>\n",
       "      <td>80.1</td>\n",
       "      <td>23.2</td>\n",
       "      <td>0</td>\n",
       "      <td>8.55</td>\n",
       "      <td>4.5</td>\n",
       "      <td>82</td>\n",
       "      <td>28</td>\n",
       "      <td>56</td>\n",
       "      <td>...</td>\n",
       "      <td>0</td>\n",
       "      <td>0</td>\n",
       "      <td>0</td>\n",
       "      <td>1</td>\n",
       "      <td>1</td>\n",
       "      <td>0</td>\n",
       "      <td>0</td>\n",
       "      <td>1</td>\n",
       "      <td>0</td>\n",
       "      <td>0</td>\n",
       "    </tr>\n",
       "    <tr>\n",
       "      <th>2</th>\n",
       "      <td>21</td>\n",
       "      <td>800.0</td>\n",
       "      <td>69.6</td>\n",
       "      <td>20.1</td>\n",
       "      <td>0</td>\n",
       "      <td>5.07</td>\n",
       "      <td>5.4</td>\n",
       "      <td>107</td>\n",
       "      <td>43</td>\n",
       "      <td>78</td>\n",
       "      <td>...</td>\n",
       "      <td>0</td>\n",
       "      <td>0</td>\n",
       "      <td>0</td>\n",
       "      <td>0</td>\n",
       "      <td>0</td>\n",
       "      <td>1</td>\n",
       "      <td>0</td>\n",
       "      <td>0</td>\n",
       "      <td>1</td>\n",
       "      <td>0</td>\n",
       "    </tr>\n",
       "    <tr>\n",
       "      <th>3</th>\n",
       "      <td>43</td>\n",
       "      <td>2000.0</td>\n",
       "      <td>120.4</td>\n",
       "      <td>33.3</td>\n",
       "      <td>0</td>\n",
       "      <td>5.22</td>\n",
       "      <td>5.0</td>\n",
       "      <td>104</td>\n",
       "      <td>73</td>\n",
       "      <td>141</td>\n",
       "      <td>...</td>\n",
       "      <td>1</td>\n",
       "      <td>0</td>\n",
       "      <td>0</td>\n",
       "      <td>0</td>\n",
       "      <td>1</td>\n",
       "      <td>0</td>\n",
       "      <td>0</td>\n",
       "      <td>0</td>\n",
       "      <td>1</td>\n",
       "      <td>0</td>\n",
       "    </tr>\n",
       "    <tr>\n",
       "      <th>5</th>\n",
       "      <td>80</td>\n",
       "      <td>300.0</td>\n",
       "      <td>112.5</td>\n",
       "      <td>28.5</td>\n",
       "      <td>0</td>\n",
       "      <td>9.79</td>\n",
       "      <td>4.8</td>\n",
       "      <td>105</td>\n",
       "      <td>47</td>\n",
       "      <td>100</td>\n",
       "      <td>...</td>\n",
       "      <td>0</td>\n",
       "      <td>0</td>\n",
       "      <td>0</td>\n",
       "      <td>1</td>\n",
       "      <td>0</td>\n",
       "      <td>1</td>\n",
       "      <td>0</td>\n",
       "      <td>0</td>\n",
       "      <td>0</td>\n",
       "      <td>1</td>\n",
       "    </tr>\n",
       "    <tr>\n",
       "      <th>...</th>\n",
       "      <td>...</td>\n",
       "      <td>...</td>\n",
       "      <td>...</td>\n",
       "      <td>...</td>\n",
       "      <td>...</td>\n",
       "      <td>...</td>\n",
       "      <td>...</td>\n",
       "      <td>...</td>\n",
       "      <td>...</td>\n",
       "      <td>...</td>\n",
       "      <td>...</td>\n",
       "      <td>...</td>\n",
       "      <td>...</td>\n",
       "      <td>...</td>\n",
       "      <td>...</td>\n",
       "      <td>...</td>\n",
       "      <td>...</td>\n",
       "      <td>...</td>\n",
       "      <td>...</td>\n",
       "      <td>...</td>\n",
       "      <td>...</td>\n",
       "    </tr>\n",
       "    <tr>\n",
       "      <th>2394</th>\n",
       "      <td>31</td>\n",
       "      <td>2500.0</td>\n",
       "      <td>74.0</td>\n",
       "      <td>20.6</td>\n",
       "      <td>0</td>\n",
       "      <td>2.00</td>\n",
       "      <td>6.7</td>\n",
       "      <td>95</td>\n",
       "      <td>64</td>\n",
       "      <td>81</td>\n",
       "      <td>...</td>\n",
       "      <td>0</td>\n",
       "      <td>0</td>\n",
       "      <td>0</td>\n",
       "      <td>0</td>\n",
       "      <td>0</td>\n",
       "      <td>1</td>\n",
       "      <td>0</td>\n",
       "      <td>1</td>\n",
       "      <td>0</td>\n",
       "      <td>0</td>\n",
       "    </tr>\n",
       "    <tr>\n",
       "      <th>2395</th>\n",
       "      <td>65</td>\n",
       "      <td>5400.0</td>\n",
       "      <td>98.5</td>\n",
       "      <td>29.4</td>\n",
       "      <td>0</td>\n",
       "      <td>5.51</td>\n",
       "      <td>6.7</td>\n",
       "      <td>114</td>\n",
       "      <td>49</td>\n",
       "      <td>165</td>\n",
       "      <td>...</td>\n",
       "      <td>0</td>\n",
       "      <td>0</td>\n",
       "      <td>1</td>\n",
       "      <td>0</td>\n",
       "      <td>1</td>\n",
       "      <td>0</td>\n",
       "      <td>0</td>\n",
       "      <td>1</td>\n",
       "      <td>0</td>\n",
       "      <td>0</td>\n",
       "    </tr>\n",
       "    <tr>\n",
       "      <th>2398</th>\n",
       "      <td>28</td>\n",
       "      <td>800.0</td>\n",
       "      <td>100.8</td>\n",
       "      <td>29.4</td>\n",
       "      <td>0</td>\n",
       "      <td>2.78</td>\n",
       "      <td>6.2</td>\n",
       "      <td>99</td>\n",
       "      <td>47</td>\n",
       "      <td>84</td>\n",
       "      <td>...</td>\n",
       "      <td>0</td>\n",
       "      <td>0</td>\n",
       "      <td>1</td>\n",
       "      <td>0</td>\n",
       "      <td>0</td>\n",
       "      <td>1</td>\n",
       "      <td>0</td>\n",
       "      <td>0</td>\n",
       "      <td>1</td>\n",
       "      <td>0</td>\n",
       "    </tr>\n",
       "    <tr>\n",
       "      <th>2399</th>\n",
       "      <td>27</td>\n",
       "      <td>8200.0</td>\n",
       "      <td>106.6</td>\n",
       "      <td>31.3</td>\n",
       "      <td>0</td>\n",
       "      <td>4.15</td>\n",
       "      <td>6.2</td>\n",
       "      <td>100</td>\n",
       "      <td>41</td>\n",
       "      <td>124</td>\n",
       "      <td>...</td>\n",
       "      <td>0</td>\n",
       "      <td>0</td>\n",
       "      <td>1</td>\n",
       "      <td>0</td>\n",
       "      <td>0</td>\n",
       "      <td>1</td>\n",
       "      <td>0</td>\n",
       "      <td>1</td>\n",
       "      <td>0</td>\n",
       "      <td>0</td>\n",
       "    </tr>\n",
       "    <tr>\n",
       "      <th>2400</th>\n",
       "      <td>60</td>\n",
       "      <td>6200.0</td>\n",
       "      <td>106.6</td>\n",
       "      <td>27.5</td>\n",
       "      <td>0</td>\n",
       "      <td>12.82</td>\n",
       "      <td>5.2</td>\n",
       "      <td>91</td>\n",
       "      <td>36</td>\n",
       "      <td>226</td>\n",
       "      <td>...</td>\n",
       "      <td>0</td>\n",
       "      <td>0</td>\n",
       "      <td>0</td>\n",
       "      <td>1</td>\n",
       "      <td>0</td>\n",
       "      <td>1</td>\n",
       "      <td>0</td>\n",
       "      <td>0</td>\n",
       "      <td>1</td>\n",
       "      <td>0</td>\n",
       "    </tr>\n",
       "  </tbody>\n",
       "</table>\n",
       "<p>2009 rows × 22 columns</p>\n",
       "</div>"
      ],
      "text/plain": [
       "      Age  Income  WaistCirc   BMI  Albuminuria  UrAlbCr  UricAcid  \\\n",
       "0      22  8200.0       81.0  23.3            0     3.88       4.9   \n",
       "1      44  4500.0       80.1  23.2            0     8.55       4.5   \n",
       "2      21   800.0       69.6  20.1            0     5.07       5.4   \n",
       "3      43  2000.0      120.4  33.3            0     5.22       5.0   \n",
       "5      80   300.0      112.5  28.5            0     9.79       4.8   \n",
       "...   ...     ...        ...   ...          ...      ...       ...   \n",
       "2394   31  2500.0       74.0  20.6            0     2.00       6.7   \n",
       "2395   65  5400.0       98.5  29.4            0     5.51       6.7   \n",
       "2398   28   800.0      100.8  29.4            0     2.78       6.2   \n",
       "2399   27  8200.0      106.6  31.3            0     4.15       6.2   \n",
       "2400   60  6200.0      106.6  27.5            0    12.82       5.2   \n",
       "\n",
       "      BloodGlucose  HDL  Triglycerides  ...  Race_Black  Race_Hispanic  \\\n",
       "0               92   41             84  ...           0              0   \n",
       "1               82   28             56  ...           0              0   \n",
       "2              107   43             78  ...           0              0   \n",
       "3              104   73            141  ...           1              0   \n",
       "5              105   47            100  ...           0              0   \n",
       "...            ...  ...            ...  ...         ...            ...   \n",
       "2394            95   64             81  ...           0              0   \n",
       "2395           114   49            165  ...           0              0   \n",
       "2398            99   47             84  ...           0              0   \n",
       "2399           100   41            124  ...           0              0   \n",
       "2400            91   36            226  ...           0              0   \n",
       "\n",
       "      Race_MexAmerican  Race_White  Sex_Female  Sex_Male  Marital_Divorced  \\\n",
       "0                    0           1           0         1                 0   \n",
       "1                    0           1           1         0                 0   \n",
       "2                    0           0           0         1                 0   \n",
       "3                    0           0           1         0                 0   \n",
       "5                    0           1           0         1                 0   \n",
       "...                ...         ...         ...       ...               ...   \n",
       "2394                 0           0           0         1                 0   \n",
       "2395                 1           0           1         0                 0   \n",
       "2398                 1           0           0         1                 0   \n",
       "2399                 1           0           0         1                 0   \n",
       "2400                 0           1           0         1                 0   \n",
       "\n",
       "      Marital_Married  Marital_Single  Marital_Widowed  \n",
       "0                   0               1                0  \n",
       "1                   1               0                0  \n",
       "2                   0               1                0  \n",
       "3                   0               1                0  \n",
       "5                   0               0                1  \n",
       "...               ...             ...              ...  \n",
       "2394                1               0                0  \n",
       "2395                1               0                0  \n",
       "2398                0               1                0  \n",
       "2399                1               0                0  \n",
       "2400                0               1                0  \n",
       "\n",
       "[2009 rows x 22 columns]"
      ]
     },
     "execution_count": 10,
     "metadata": {},
     "output_type": "execute_result"
    }
   ],
   "source": [
    "data"
   ]
  },
  {
   "cell_type": "code",
   "execution_count": 11,
   "metadata": {},
   "outputs": [
    {
     "name": "stdout",
     "output_type": "stream",
     "text": [
      "[[2.200e+01 8.200e+03 8.100e+01 ... 0.000e+00 1.000e+00 0.000e+00]\n",
      " [4.400e+01 4.500e+03 8.010e+01 ... 1.000e+00 0.000e+00 0.000e+00]\n",
      " [2.100e+01 8.000e+02 6.960e+01 ... 0.000e+00 1.000e+00 0.000e+00]\n",
      " ...\n",
      " [2.800e+01 8.000e+02 1.008e+02 ... 0.000e+00 1.000e+00 0.000e+00]\n",
      " [2.700e+01 8.200e+03 1.066e+02 ... 1.000e+00 0.000e+00 0.000e+00]\n",
      " [6.000e+01 6.200e+03 1.066e+02 ... 0.000e+00 1.000e+00 0.000e+00]]\n"
     ]
    }
   ],
   "source": [
    "print(features)"
   ]
  },
  {
   "cell_type": "code",
   "execution_count": 12,
   "metadata": {},
   "outputs": [
    {
     "name": "stdout",
     "output_type": "stream",
     "text": [
      "[0 0 0 ... 0 1 1]\n"
     ]
    }
   ],
   "source": [
    "print(label)"
   ]
  },
  {
   "cell_type": "code",
   "execution_count": 13,
   "metadata": {},
   "outputs": [],
   "source": [
    "scaler = MinMaxScaler()\n",
    "scaler.fit(features)\n",
    "features = scaler.transform(features)"
   ]
  },
  {
   "cell_type": "code",
   "execution_count": 14,
   "metadata": {},
   "outputs": [],
   "source": [
    "np.save(\"features.npy\",features)\n",
    "np.save(\"label.npy\",label)"
   ]
  },
  {
   "cell_type": "code",
   "execution_count": 15,
   "metadata": {},
   "outputs": [
    {
     "data": {
      "text/plain": [
       "(2009, 21)"
      ]
     },
     "execution_count": 15,
     "metadata": {},
     "output_type": "execute_result"
    }
   ],
   "source": [
    "features.shape"
   ]
  },
  {
   "cell_type": "code",
   "execution_count": 18,
   "metadata": {},
   "outputs": [
    {
     "name": "stdout",
     "output_type": "stream",
     "text": [
      "0.6455948232951717\n"
     ]
    }
   ],
   "source": [
    "print(1-np.sum(label)/label.shape[0])"
   ]
  }
 ],
 "metadata": {
  "kernelspec": {
   "display_name": "Python 3 (ipykernel)",
   "language": "python",
   "name": "python3"
  },
  "language_info": {
   "codemirror_mode": {
    "name": "ipython",
    "version": 3
   },
   "file_extension": ".py",
   "mimetype": "text/x-python",
   "name": "python",
   "nbconvert_exporter": "python",
   "pygments_lexer": "ipython3",
   "version": "3.9.7"
  }
 },
 "nbformat": 4,
 "nbformat_minor": 4
}
