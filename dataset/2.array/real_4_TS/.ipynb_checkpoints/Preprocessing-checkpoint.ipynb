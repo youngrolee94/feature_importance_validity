{
 "cells": [
  {
   "cell_type": "code",
   "execution_count": 1,
   "metadata": {},
   "outputs": [],
   "source": [
    "from __future__ import print_function\n",
    "import matplotlib.pyplot as plt\n",
    "import numpy as np\n",
    "import os\n",
    "import sys\n",
    "import tarfile\n",
    "from IPython.display import display, Image\n",
    "from sklearn.linear_model import LogisticRegression\n",
    "from six.moves.urllib.request import urlretrieve\n",
    "from six.moves import cPickle as pickle\n",
    "\n",
    "import pandas as pd\n",
    "import openpyxl\n",
    "import xgboost as xgb\n",
    "from sklearn import metrics\n",
    "import sklearn\n",
    "import shap\n",
    "import seaborn as sns\n",
    "import random\n",
    "from sklearn.model_selection import train_test_split\n",
    "from sklearn.preprocessing import MinMaxScaler"
   ]
  },
  {
   "cell_type": "code",
   "execution_count": 3,
   "metadata": {},
   "outputs": [],
   "source": [
    "data_num = 470\n",
    "feature_num = 16\n",
    "\n",
    "features = np.zeros((data_num,feature_num))\n",
    "label = np.zeros((data_num,))"
   ]
  },
  {
   "cell_type": "code",
   "execution_count": 4,
   "metadata": {},
   "outputs": [],
   "source": [
    "data_location = os.getcwd()+\"/../../1.original/real_5_TS/data.xlsx\"\n",
    "raw_data = openpyxl.load_workbook(data_location)\n",
    "raw_data = raw_data.active"
   ]
  },
  {
   "cell_type": "code",
   "execution_count": 9,
   "metadata": {},
   "outputs": [],
   "source": [
    "for data_index in range(data_num):\n",
    "    \n",
    "    # feature 1\n",
    "    temp = int(raw_data.cell(row=data_index+22, column=1).value[3])\n",
    "    if temp == 8:\n",
    "        temp = 7\n",
    "    features[data_index,0] = temp\n",
    "    \n",
    "    # feature 2, feature 3\n",
    "    features[data_index,1] = raw_data.cell(row=data_index+22, column=2).value\n",
    "    features[data_index,2] = raw_data.cell(row=data_index+22, column=3).value\n",
    "    \n",
    "    # feature 4\n",
    "    features[data_index,3] = int(raw_data.cell(row=data_index+22, column=4).value[3])\n",
    "    \n",
    "    \n",
    "    # feature 5-9\n",
    "    for index_temp in range(5):\n",
    "        if raw_data.cell(row=data_index+22, column=5+index_temp).value == \"T\":\n",
    "            features[data_index,4+index_temp] = 1\n",
    "        elif raw_data.cell(row=data_index+22, column=5+index_temp).value == \"F\":\n",
    "            features[data_index,4+index_temp] = 0\n",
    "        else:\n",
    "            print(\"Error\")\n",
    "    # feature 10\n",
    "    features[data_index,9] = int(raw_data.cell(row=data_index+22, column=10).value[3])\n",
    "    \n",
    "    # feature 11-15\n",
    "    for index_temp in range(5):\n",
    "        if raw_data.cell(row=data_index+22, column=11+index_temp).value == \"T\":\n",
    "            features[data_index,10+index_temp] = 1\n",
    "        elif raw_data.cell(row=data_index+22, column=11+index_temp).value == \"F\":\n",
    "            features[data_index,10+index_temp] = 0\n",
    "        else:\n",
    "            print(\"Error\")\n",
    "    # feature 16\n",
    "    features[data_index,15] = raw_data.cell(row=data_index+22, column=16).value\n",
    "    \n",
    "    if raw_data.cell(row=data_index+22, column=17).value == \"T\":\n",
    "        label[data_index]  = 1\n",
    "    elif raw_data.cell(row=data_index+22, column=17).value == \"F\":\n",
    "        label[data_index] = 0\n",
    "    else:\n",
    "        print(\"Error\")\n"
   ]
  },
  {
   "cell_type": "code",
   "execution_count": 10,
   "metadata": {},
   "outputs": [
    {
     "name": "stdout",
     "output_type": "stream",
     "text": [
      "[[ 2.    2.88  2.16 ...  1.    0.   60.  ]\n",
      " [ 3.    3.4   1.88 ...  1.    0.   51.  ]\n",
      " [ 3.    2.76  2.08 ...  1.    0.   59.  ]\n",
      " ...\n",
      " [ 3.    3.04  2.08 ...  0.    0.   52.  ]\n",
      " [ 3.    1.96  1.68 ...  1.    0.   79.  ]\n",
      " [ 3.    4.72  3.56 ...  1.    0.   51.  ]]\n"
     ]
    }
   ],
   "source": [
    "print(features)"
   ]
  },
  {
   "cell_type": "code",
   "execution_count": 11,
   "metadata": {},
   "outputs": [
    {
     "name": "stdout",
     "output_type": "stream",
     "text": [
      "[0. 0. 0. 0. 1. 0. 1. 1. 0. 0. 0. 0. 0. 1. 0. 0. 0. 0. 0. 0. 0. 0. 0. 0.\n",
      " 1. 0. 0. 1. 0. 0. 1. 0. 0. 0. 0. 0. 0. 0. 0. 0. 1. 1. 0. 1. 0. 0. 0. 1.\n",
      " 0. 0. 0. 0. 0. 0. 0. 0. 0. 1. 0. 0. 1. 0. 0. 0. 0. 0. 0. 1. 0. 0. 0. 0.\n",
      " 0. 0. 0. 1. 0. 1. 0. 0. 0. 0. 0. 0. 0. 0. 0. 0. 0. 0. 0. 0. 1. 0. 0. 0.\n",
      " 1. 0. 0. 1. 0. 0. 0. 0. 0. 0. 0. 0. 0. 0. 0. 0. 0. 0. 0. 1. 0. 0. 0. 0.\n",
      " 0. 0. 0. 0. 0. 0. 0. 1. 1. 0. 0. 0. 1. 0. 0. 0. 0. 1. 0. 0. 0. 0. 0. 1.\n",
      " 0. 0. 0. 0. 0. 0. 0. 1. 1. 0. 0. 0. 0. 0. 0. 0. 0. 0. 0. 0. 0. 0. 0. 0.\n",
      " 0. 1. 0. 0. 0. 1. 0. 1. 0. 0. 0. 0. 0. 0. 0. 0. 0. 1. 0. 0. 0. 0. 0. 1.\n",
      " 0. 0. 0. 1. 1. 0. 0. 0. 0. 0. 0. 0. 0. 0. 0. 0. 0. 1. 0. 1. 0. 1. 0. 0.\n",
      " 0. 0. 0. 0. 1. 0. 0. 0. 0. 0. 0. 1. 0. 1. 0. 0. 0. 0. 0. 0. 0. 0. 1. 1.\n",
      " 0. 0. 1. 0. 0. 0. 0. 0. 0. 0. 0. 1. 0. 0. 0. 0. 0. 0. 0. 0. 1. 0. 0. 0.\n",
      " 0. 0. 0. 0. 1. 0. 1. 0. 0. 0. 1. 0. 0. 0. 0. 0. 0. 0. 0. 0. 0. 0. 0. 0.\n",
      " 0. 0. 0. 0. 0. 0. 0. 0. 1. 1. 0. 0. 0. 0. 1. 0. 0. 1. 0. 0. 0. 0. 0. 0.\n",
      " 1. 0. 0. 0. 0. 0. 0. 0. 0. 1. 0. 0. 0. 0. 0. 0. 0. 0. 0. 0. 0. 0. 1. 0.\n",
      " 0. 0. 0. 0. 1. 0. 0. 0. 0. 0. 0. 0. 1. 0. 1. 0. 0. 0. 0. 0. 0. 1. 0. 0.\n",
      " 0. 0. 1. 0. 0. 0. 0. 1. 0. 0. 0. 0. 0. 0. 0. 0. 0. 0. 0. 0. 0. 0. 0. 0.\n",
      " 0. 0. 1. 0. 0. 0. 0. 0. 0. 0. 0. 0. 0. 0. 0. 0. 0. 0. 0. 0. 1. 0. 0. 0.\n",
      " 0. 0. 1. 0. 0. 0. 0. 0. 0. 0. 0. 1. 1. 1. 0. 0. 0. 0. 1. 0. 0. 0. 0. 0.\n",
      " 0. 0. 0. 0. 0. 0. 0. 0. 0. 0. 0. 0. 0. 0. 0. 0. 0. 1. 0. 0. 0. 0. 0. 0.\n",
      " 0. 0. 0. 0. 0. 0. 0. 1. 0. 0. 0. 0. 0. 0.]\n"
     ]
    }
   ],
   "source": [
    "print(label)"
   ]
  },
  {
   "cell_type": "code",
   "execution_count": 12,
   "metadata": {},
   "outputs": [],
   "source": [
    "scaler = MinMaxScaler()\n",
    "scaler.fit(features)\n",
    "features = scaler.transform(features)"
   ]
  },
  {
   "cell_type": "code",
   "execution_count": 13,
   "metadata": {},
   "outputs": [],
   "source": [
    "np.save(\"features.npy\",features)\n",
    "np.save(\"label.npy\",label)"
   ]
  },
  {
   "cell_type": "code",
   "execution_count": null,
   "metadata": {},
   "outputs": [],
   "source": []
  },
  {
   "cell_type": "code",
   "execution_count": null,
   "metadata": {},
   "outputs": [],
   "source": []
  }
 ],
 "metadata": {
  "kernelspec": {
   "display_name": "Python 3 (ipykernel)",
   "language": "python",
   "name": "python3"
  },
  "language_info": {
   "codemirror_mode": {
    "name": "ipython",
    "version": 3
   },
   "file_extension": ".py",
   "mimetype": "text/x-python",
   "name": "python",
   "nbconvert_exporter": "python",
   "pygments_lexer": "ipython3",
   "version": "3.9.7"
  }
 },
 "nbformat": 4,
 "nbformat_minor": 4
}
